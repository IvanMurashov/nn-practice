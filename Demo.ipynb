{
 "cells": [
  {
   "cell_type": "markdown",
   "metadata": {},
   "source": [
    "# Neural Network with Stochastic Gradient Descent"
   ]
  },
  {
   "cell_type": "markdown",
   "metadata": {},
   "source": [
    "This demo notebook implements training, then classification of MNIST handwritten digits using a neural network."
   ]
  },
  {
   "cell_type": "code",
   "execution_count": 1,
   "metadata": {},
   "outputs": [],
   "source": [
    "%matplotlib inline\n",
    "import mnist_loader_mod\n",
    "import mynn\n",
    "import numpy as np"
   ]
  },
  {
   "cell_type": "markdown",
   "metadata": {},
   "source": [
    "Import MNIST dataset. 50k examples are allocated for training, 10k for testing and remaining 10k for validation."
   ]
  },
  {
   "cell_type": "code",
   "execution_count": 2,
   "metadata": {},
   "outputs": [],
   "source": [
    "training_data, test_data, validation_data = map(list, mnist_loader_mod.load_data_wrapper())"
   ]
  },
  {
   "cell_type": "markdown",
   "metadata": {},
   "source": [
    "Initialize network with Logistic Sigmoid activation for two 16-unit hidden layers and Softmax for last layer.\n",
    "By default, Cross Entropy loss is used."
   ]
  },
  {
   "cell_type": "code",
   "execution_count": 3,
   "metadata": {},
   "outputs": [],
   "source": [
    "net = mynn.MLP([784, 20, 20, 10], activation=mynn.Sigmoid, activation_last=mynn.Softmax)"
   ]
  },
  {
   "cell_type": "markdown",
   "metadata": {},
   "source": [
    "Start model training. This demo uses 10 epochs, evaluates test data after each epoch and plots a line chart of history of prediction accuracy for training and test datasets with each epoch."
   ]
  },
  {
   "cell_type": "code",
   "execution_count": 4,
   "metadata": {
    "scrolled": false
   },
   "outputs": [
    {
     "name": "stdout",
     "output_type": "stream",
     "text": [
      "Correct from testing dataset:  0.9209\n",
      "Correct from training dataset: 0.91834\n",
      "Epoch 1/10: 7.47s\n",
      "\n",
      "Correct from testing dataset:  0.9289\n",
      "Correct from training dataset: 0.92844\n",
      "Epoch 2/10: 7.58s\n",
      "\n",
      "Correct from testing dataset:  0.94\n",
      "Correct from training dataset: 0.94116\n",
      "Epoch 3/10: 7.42s\n",
      "\n",
      "Correct from testing dataset:  0.9381\n",
      "Correct from training dataset: 0.94096\n",
      "Epoch 4/10: 7.44s\n",
      "\n",
      "Correct from testing dataset:  0.9411\n",
      "Correct from training dataset: 0.94192\n",
      "Epoch 5/10: 7.43s\n",
      "\n",
      "Correct from testing dataset:  0.9442\n",
      "Correct from training dataset: 0.95026\n",
      "Epoch 6/10: 7.49s\n",
      "\n",
      "Correct from testing dataset:  0.9436\n",
      "Correct from training dataset: 0.95058\n",
      "Epoch 7/10: 7.45s\n",
      "\n",
      "Correct from testing dataset:  0.945\n",
      "Correct from training dataset: 0.94976\n",
      "Epoch 8/10: 7.62s\n",
      "\n",
      "Correct from testing dataset:  0.9467\n",
      "Correct from training dataset: 0.9529\n",
      "Epoch 9/10: 7.58s\n",
      "\n",
      "Correct from testing dataset:  0.9475\n",
      "Correct from training dataset: 0.9537\n",
      "Epoch 10/10: 7.52s\n",
      "\n"
     ]
    },
    {
     "data": {
      "image/png": "[encoded data removed]",
      "text/plain": [
       "<Figure size 432x288 with 1 Axes>"
      ]
     },
     "metadata": {
      "needs_background": "light"
     },
     "output_type": "display_data"
    }
   ],
   "source": [
    "net.SGD(\n",
    "    data=training_data,\n",
    "    epochs=10,\n",
    "    batch_size=10,\n",
    "    eta=0.5,\n",
    "    test_data=test_data,\n",
    "    training_evaluation=True,\n",
    "    plot=True\n",
    ")"
   ]
  },
  {
   "cell_type": "markdown",
   "metadata": {},
   "source": [
    "Evaluate final prediction accuracy on validation dataset."
   ]
  },
  {
   "cell_type": "code",
   "execution_count": 5,
   "metadata": {},
   "outputs": [
    {
     "name": "stdout",
     "output_type": "stream",
     "text": [
      "0.9435\n"
     ]
    }
   ],
   "source": [
    "val_queries = [query for query, _ in validation_data]\n",
    "val_class = [label for _, label in validation_data]\n",
    "guesses = [np.argmax(guess) for guess in net.classify(val_queries)]\n",
    "print(sum([a == t for a, t in zip(val_class, guesses)])/len(val_class))"
   ]
  }
 ],
 "metadata": {
  "kernelspec": {
   "display_name": "Python 3",
   "language": "python",
   "name": "python3"
  },
  "language_info": {
   "codemirror_mode": {
    "name": "ipython",
    "version": 3
   },
   "file_extension": ".py",
   "mimetype": "text/x-python",
   "name": "python",
   "nbconvert_exporter": "python",
   "pygments_lexer": "ipython3",
   "version": "3.8.3"
  }
 },
 "nbformat": 4,
 "nbformat_minor": 4
}
